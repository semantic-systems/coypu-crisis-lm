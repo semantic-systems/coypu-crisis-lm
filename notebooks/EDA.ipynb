{
 "cells": [
  {
   "cell_type": "code",
   "execution_count": 1,
   "metadata": {
    "collapsed": true,
    "pycharm": {
     "name": "#%%md\n"
    }
   },
   "outputs": [],
   "source": [
    "# EDA of the CrisisBench dataset"
   ]
  },
  {
   "cell_type": "code",
   "execution_count": 2,
   "outputs": [
    {
     "name": "stdout",
     "output_type": "stream",
     "text": [
      "Requirement already satisfied: matplotlib in /home/angelie/anaconda3/envs/crisis-lm-env/lib/python3.9/site-packages (3.5.1)\r\n",
      "Requirement already satisfied: pyparsing>=2.2.1 in /home/angelie/anaconda3/envs/crisis-lm-env/lib/python3.9/site-packages (from matplotlib) (3.0.4)\r\n",
      "Requirement already satisfied: packaging>=20.0 in /home/angelie/anaconda3/envs/crisis-lm-env/lib/python3.9/site-packages (from matplotlib) (21.3)\r\n",
      "Requirement already satisfied: numpy>=1.17 in /home/angelie/anaconda3/envs/crisis-lm-env/lib/python3.9/site-packages (from matplotlib) (1.19.2)\r\n",
      "Requirement already satisfied: cycler>=0.10 in /home/angelie/anaconda3/envs/crisis-lm-env/lib/python3.9/site-packages (from matplotlib) (0.11.0)\r\n",
      "Requirement already satisfied: fonttools>=4.22.0 in /home/angelie/anaconda3/envs/crisis-lm-env/lib/python3.9/site-packages (from matplotlib) (4.29.1)\r\n",
      "Requirement already satisfied: pillow>=6.2.0 in /home/angelie/anaconda3/envs/crisis-lm-env/lib/python3.9/site-packages (from matplotlib) (9.0.1)\r\n",
      "Requirement already satisfied: kiwisolver>=1.0.1 in /home/angelie/anaconda3/envs/crisis-lm-env/lib/python3.9/site-packages (from matplotlib) (1.3.2)\r\n",
      "Requirement already satisfied: python-dateutil>=2.7 in /home/angelie/anaconda3/envs/crisis-lm-env/lib/python3.9/site-packages (from matplotlib) (2.8.2)\r\n",
      "Requirement already satisfied: six>=1.5 in /home/angelie/anaconda3/envs/crisis-lm-env/lib/python3.9/site-packages (from python-dateutil>=2.7->matplotlib) (1.16.0)\r\n"
     ]
    }
   ],
   "source": [
    "import os\n",
    "import random\n",
    "import sys\n",
    "sys.path.append(\"../src\")\n",
    "\n",
    "import numpy as np\n",
    "import pandas as pd\n",
    "!pip install matplotlib\n",
    "import matplotlib.pyplot as plt\n",
    "data_path = \"../data/data/all_data_en\""
   ],
   "metadata": {
    "collapsed": false,
    "pycharm": {
     "name": "#%%\n"
    }
   }
  },
  {
   "cell_type": "markdown",
   "source": [
    "# Informativeness\n",
    "\n",
    "Binary labels: \"not_informative\", \"informative\""
   ],
   "metadata": {
    "collapsed": false,
    "pycharm": {
     "name": "#%% md\n"
    }
   }
  },
  {
   "cell_type": "code",
   "execution_count": 3,
   "outputs": [
    {
     "name": "stdout",
     "output_type": "stream",
     "text": [
      "Requirement already satisfied: emoji in /home/angelie/anaconda3/envs/crisis-lm-env/lib/python3.9/site-packages (1.6.3)\r\n",
      "Requirement already satisfied: nltk in /home/angelie/anaconda3/envs/crisis-lm-env/lib/python3.9/site-packages (3.7)\r\n",
      "Requirement already satisfied: tqdm in /home/angelie/anaconda3/envs/crisis-lm-env/lib/python3.9/site-packages (from nltk) (4.62.3)\r\n",
      "Requirement already satisfied: regex>=2021.8.3 in /home/angelie/anaconda3/envs/crisis-lm-env/lib/python3.9/site-packages (from nltk) (2021.11.2)\r\n",
      "Requirement already satisfied: click in /home/angelie/anaconda3/envs/crisis-lm-env/lib/python3.9/site-packages (from nltk) (8.0.3)\r\n",
      "Requirement already satisfied: joblib in /home/angelie/anaconda3/envs/crisis-lm-env/lib/python3.9/site-packages (from nltk) (1.1.0)\r\n"
     ]
    }
   ],
   "source": [
    "!pip install emoji nltk\n",
    "from src.TweetNormalizer import normalizeTweet\n",
    "\n",
    "\n",
    "filepath = os.path.join(data_path, \"crisis_consolidated_informativeness_filtered_lang_en_train.tsv\")\n",
    "label_enum_dict = {cls: i for i, cls in enumerate([\"not_informative\", \"informative\"])}\n",
    "df = pd.DataFrame([], columns=[\"text\", \"label\"])\n",
    "with open(filepath, \"r\", newline=None, encoding='utf-8', errors='replace') as f:\n",
    "    next(f)  # skip head col\n",
    "    for i, line in enumerate(f):\n",
    "        line = line.strip()\n",
    "        if line == \"\":\n",
    "            continue\n",
    "        row = line.split('\\t')\n",
    "        text = row[3].strip()\n",
    "        text = normalizeTweet(text)\n",
    "        label = row[6]\n",
    "        label = label_enum_dict[label]\n",
    "        df.loc[i, :] = [text, label]"
   ],
   "metadata": {
    "collapsed": false,
    "pycharm": {
     "name": "#%%\n"
    }
   }
  },
  {
   "cell_type": "code",
   "execution_count": 4,
   "outputs": [
    {
     "data": {
      "text/plain": "                                                     text label\n0       Organization that are working in Haiti , I do ...     1\n1       Maria now a hurricane again ! ! Strong storm s...     1\n2       RT @user : Fallen tree branches scattered in S...     1\n3       The Government did not request international a...     1\n4           Remove http Browser Hijacker - How t ... http     0\n...                                                   ...   ...\n109791  On Saturday 22 , ' Alberta ' was Trending Topi...     1\n109792  #CHINA uses its massive army to frighten it 's...     0\n109793  In Post-Hurricane Puerto Rico , This Used Game...     0\n109794  @user just chilling with Z ... Jimmy Jazz is n...     0\n109795  New post : Metro-North Railroad slapped with e...     1\n\n[109796 rows x 2 columns]",
      "text/html": "<div>\n<style scoped>\n    .dataframe tbody tr th:only-of-type {\n        vertical-align: middle;\n    }\n\n    .dataframe tbody tr th {\n        vertical-align: top;\n    }\n\n    .dataframe thead th {\n        text-align: right;\n    }\n</style>\n<table border=\"1\" class=\"dataframe\">\n  <thead>\n    <tr style=\"text-align: right;\">\n      <th></th>\n      <th>text</th>\n      <th>label</th>\n    </tr>\n  </thead>\n  <tbody>\n    <tr>\n      <th>0</th>\n      <td>Organization that are working in Haiti , I do ...</td>\n      <td>1</td>\n    </tr>\n    <tr>\n      <th>1</th>\n      <td>Maria now a hurricane again ! ! Strong storm s...</td>\n      <td>1</td>\n    </tr>\n    <tr>\n      <th>2</th>\n      <td>RT @user : Fallen tree branches scattered in S...</td>\n      <td>1</td>\n    </tr>\n    <tr>\n      <th>3</th>\n      <td>The Government did not request international a...</td>\n      <td>1</td>\n    </tr>\n    <tr>\n      <th>4</th>\n      <td>Remove http Browser Hijacker - How t ... http</td>\n      <td>0</td>\n    </tr>\n    <tr>\n      <th>...</th>\n      <td>...</td>\n      <td>...</td>\n    </tr>\n    <tr>\n      <th>109791</th>\n      <td>On Saturday 22 , ' Alberta ' was Trending Topi...</td>\n      <td>1</td>\n    </tr>\n    <tr>\n      <th>109792</th>\n      <td>#CHINA uses its massive army to frighten it 's...</td>\n      <td>0</td>\n    </tr>\n    <tr>\n      <th>109793</th>\n      <td>In Post-Hurricane Puerto Rico , This Used Game...</td>\n      <td>0</td>\n    </tr>\n    <tr>\n      <th>109794</th>\n      <td>@user just chilling with Z ... Jimmy Jazz is n...</td>\n      <td>0</td>\n    </tr>\n    <tr>\n      <th>109795</th>\n      <td>New post : Metro-North Railroad slapped with e...</td>\n      <td>1</td>\n    </tr>\n  </tbody>\n</table>\n<p>109796 rows × 2 columns</p>\n</div>"
     },
     "execution_count": 4,
     "metadata": {},
     "output_type": "execute_result"
    }
   ],
   "source": [
    "df"
   ],
   "metadata": {
    "collapsed": false,
    "pycharm": {
     "name": "#%%\n"
    }
   }
  },
  {
   "cell_type": "code",
   "execution_count": 5,
   "outputs": [
    {
     "data": {
      "text/plain": "                                                     text   label\ncount                                              109796  109796\nunique                                             109796       2\ntop     Organization that are working in Haiti , I do ...       1\nfreq                                                    1   65826",
      "text/html": "<div>\n<style scoped>\n    .dataframe tbody tr th:only-of-type {\n        vertical-align: middle;\n    }\n\n    .dataframe tbody tr th {\n        vertical-align: top;\n    }\n\n    .dataframe thead th {\n        text-align: right;\n    }\n</style>\n<table border=\"1\" class=\"dataframe\">\n  <thead>\n    <tr style=\"text-align: right;\">\n      <th></th>\n      <th>text</th>\n      <th>label</th>\n    </tr>\n  </thead>\n  <tbody>\n    <tr>\n      <th>count</th>\n      <td>109796</td>\n      <td>109796</td>\n    </tr>\n    <tr>\n      <th>unique</th>\n      <td>109796</td>\n      <td>2</td>\n    </tr>\n    <tr>\n      <th>top</th>\n      <td>Organization that are working in Haiti , I do ...</td>\n      <td>1</td>\n    </tr>\n    <tr>\n      <th>freq</th>\n      <td>1</td>\n      <td>65826</td>\n    </tr>\n  </tbody>\n</table>\n</div>"
     },
     "execution_count": 5,
     "metadata": {},
     "output_type": "execute_result"
    }
   ],
   "source": [
    "df.describe()"
   ],
   "metadata": {
    "collapsed": false,
    "pycharm": {
     "name": "#%%\n"
    }
   }
  },
  {
   "cell_type": "code",
   "execution_count": 6,
   "outputs": [
    {
     "data": {
      "text/plain": "text     65826\nlabel    65826\ndtype: int64"
     },
     "execution_count": 6,
     "metadata": {},
     "output_type": "execute_result"
    }
   ],
   "source": [
    "df[df[\"label\"] == 1].count()"
   ],
   "metadata": {
    "collapsed": false,
    "pycharm": {
     "name": "#%%\n"
    }
   }
  },
  {
   "cell_type": "code",
   "execution_count": 7,
   "outputs": [],
   "source": [
    "# Get only crisis-related tweets\n",
    "df_informative = df[df[\"label\"] == 1].copy()"
   ],
   "metadata": {
    "collapsed": false,
    "pycharm": {
     "name": "#%%\n"
    }
   }
  },
  {
   "cell_type": "code",
   "execution_count": 8,
   "outputs": [
    {
     "name": "stdout",
     "output_type": "stream",
     "text": [
      "Num characters\n"
     ]
    },
    {
     "data": {
      "text/plain": "count    65826.000000\nmean       105.455823\nstd         50.745208\nmin          9.000000\n25%         78.000000\n50%        104.000000\n75%        126.000000\nmax       4248.000000\nName: text, dtype: float64"
     },
     "execution_count": 8,
     "metadata": {},
     "output_type": "execute_result"
    }
   ],
   "source": [
    "print(\"Num characters\")\n",
    "df_informative[\"text\"].str.len().describe()"
   ],
   "metadata": {
    "collapsed": false,
    "pycharm": {
     "name": "#%%\n"
    }
   }
  },
  {
   "cell_type": "code",
   "execution_count": 9,
   "outputs": [
    {
     "name": "stdout",
     "output_type": "stream",
     "text": [
      "Num words\n"
     ]
    },
    {
     "data": {
      "text/plain": "count    65826.000000\nmean        19.763194\nstd          9.438799\nmin          2.000000\n25%         14.000000\n50%         19.000000\n75%         24.000000\nmax        736.000000\nName: text, dtype: float64"
     },
     "execution_count": 9,
     "metadata": {},
     "output_type": "execute_result"
    }
   ],
   "source": [
    "print(\"Num words\")\n",
    "df_informative[\"text\"].str.split().\\\n",
    "    map(lambda x: len(x)).describe()"
   ],
   "metadata": {
    "collapsed": false,
    "pycharm": {
     "name": "#%%\n"
    }
   }
  },
  {
   "cell_type": "code",
   "execution_count": 24,
   "outputs": [
    {
     "data": {
      "text/plain": "[('http', 41795),\n ('.', 39899),\n (':', 35183),\n ('@user', 33773),\n ('the', 30702),\n (',', 30587),\n ('in', 24964),\n ('to', 23740),\n ('of', 20265),\n ('RT', 19020),\n ('and', 16321),\n ('...', 11482),\n ('for', 11472),\n ('a', 11415),\n ('is', 8830),\n ('!', 8456),\n ('-', 7110),\n ('on', 6803),\n ('I', 6790),\n (\"'s\", 6448),\n ('?', 5996),\n ('are', 5789),\n ('from', 5090),\n ('at', 5072),\n ('\"', 5028),\n ('by', 4852),\n ('with', 4554),\n ('The', 4454),\n ('have', 4210),\n ('you', 4064),\n ('that', 4028),\n ('people', 3774),\n ('as', 3755),\n ('(', 3687),\n ('Hurricane', 3687),\n ('this', 3528),\n (')', 3433),\n ('&', 3394),\n ('help', 3388),\n (\"'\", 3336),\n ('it', 3190),\n ('be', 3181),\n ('earthquake', 3130),\n ('we', 2951),\n ('all', 2905),\n ('after', 2839),\n ('has', 2816),\n ('�', 2627),\n ('out', 2587),\n ('Boston', 2464),\n ('my', 2456),\n ('/', 2427),\n ('will', 2403),\n ('was', 2392),\n ('flood', 2346),\n ('can', 2165),\n (\"n't\", 2153),\n ('We', 2053),\n ('not', 2048),\n ('hurricane', 2039),\n ('now', 2021),\n ('Nepal', 2019),\n ('water', 1994),\n ('about', 1977),\n ('A', 1929),\n ('victims', 1892),\n ('Texas', 1877),\n ('up', 1874),\n ('tornado', 1873),\n ('via', 1855),\n ('do', 1832),\n ('€', 1789),\n ('explosion', 1775),\n ('been', 1740),\n ('..', 1740),\n ('an', 1699),\n ('Irma', 1684),\n ('affected', 1683),\n ('need', 1682),\n ('but', 1664),\n ('who', 1643),\n ('food', 1621),\n ('more', 1617),\n ('our', 1601),\n ('#yycflood', 1492),\n ('those', 1462),\n ('or', 1460),\n ('they', 1455),\n ('relief', 1440),\n ('Oklahoma', 1440),\n ('like', 1427),\n ('so', 1423),\n ('me', 1421),\n ('there', 1408),\n ('Harvey', 1403),\n ('\\\\', 1386),\n ('over', 1340),\n ('Sandy', 1339),\n ('us', 1336),\n ('just', 1328)]"
     },
     "execution_count": 24,
     "metadata": {},
     "output_type": "execute_result"
    }
   ],
   "source": [
    "from collections import Counter\n",
    "# five most common tokens\n",
    "word_freq = Counter([word for sentence in df_informative[\"text\"].str.split() for word in sentence])\n",
    "common_words = word_freq.most_common(100)\n",
    "common_words\n"
   ],
   "metadata": {
    "collapsed": false,
    "pycharm": {
     "name": "#%%\n"
    }
   }
  },
  {
   "cell_type": "code",
   "execution_count": null,
   "outputs": [],
   "source": [],
   "metadata": {
    "collapsed": false,
    "pycharm": {
     "name": "#%%\n"
    }
   }
  }
 ],
 "metadata": {
  "kernelspec": {
   "name": "crisis-lm-env",
   "language": "python",
   "display_name": "crisis-lm-env"
  },
  "language_info": {
   "codemirror_mode": {
    "name": "ipython",
    "version": 2
   },
   "file_extension": ".py",
   "mimetype": "text/x-python",
   "name": "python",
   "nbconvert_exporter": "python",
   "pygments_lexer": "ipython2",
   "version": "2.7.6"
  }
 },
 "nbformat": 4,
 "nbformat_minor": 0
}